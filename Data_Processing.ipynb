{
 "cells": [
  {
   "cell_type": "markdown",
   "metadata": {},
   "source": [
    "# Requirements "
   ]
  },
  {
   "cell_type": "code",
   "execution_count": 12,
   "metadata": {},
   "outputs": [],
   "source": [
    "import pandas as pd \n",
    "import numpy as np\n",
    "import pyreadstat\n",
    "pd.set_option(\"max.columns\", None)\n",
    "pd.set_option(\"max.rows\", None)\n",
    "df = pd.read_spss('./Files/3216.sav')\n",
    "df['PESO'] = df['PESO'].str.replace(',','.').astype('float')"
   ]
  },
  {
   "cell_type": "markdown",
   "metadata": {},
   "source": [
    "# Variable selection"
   ]
  },
  {
   "cell_type": "code",
   "execution_count": 13,
   "metadata": {},
   "outputs": [],
   "source": [
    "my_vars = ['CUES','CCAA','TAMUNI','P1_1','P1_2','P1_3','P1_4','P1_5','P2_1','P2_2','P2_3','P2_4','P2_5',\n",
    " 'P3A','P3B','P4_1','P4_2','P4_3','P4_4','P4_5','P4_6','P4_7','P4_8','P4_9','P4_10',\n",
    " 'P5_1','P5_2','P5_3','P5_4','P5_5','P5_6','P5_7','P5_8','P5_9','P5_10','P5_11','P5_12','P5_13','P5_14',\n",
    " 'P6','P7A','P7B','P8','P9','P11A','P11B','P16','P17','P18','P18A','P19_1','P19_2','P19_3',\n",
    " 'P34_1','P34_2','P34_3','P34_4','P34_5','P34_6','P34_7','P34_8','P34_9','P34_10',\n",
    " 'P35_1','P35_2','P35_3','P35_4','P35_5','P35_6','P35_7','P43',\n",
    " 'RECUERDO','P46','P47','ESTUDIOS','P49AA',\n",
    " 'P53','P54','ESTATUS','PESO']\n",
    "df2 = df[my_vars].copy()"
   ]
  },
  {
   "cell_type": "markdown",
   "metadata": {},
   "source": [
    "# Cross Tabs"
   ]
  },
  {
   "cell_type": "code",
   "execution_count": null,
   "metadata": {},
   "outputs": [],
   "source": [
    "# Frequencies: \n",
    "# P16: Knowledge / information about IA and robots\n",
    "# P17: Attitudes - positive vs negative regarding AI and robots\n",
    "# P18: Thoughts about the impact of Artificial Inteligence on the job market\n",
    "# P18A: Thoughts about the impact of Artificial Inteligence on household tasks\n",
    "# P19: Attitudes towards AI and robots"
   ]
  },
  {
   "cell_type": "code",
   "execution_count": 19,
   "metadata": {
    "scrolled": true
   },
   "outputs": [
    {
     "data": {
      "text/plain": [
       "['Sí', 'No', 'No recuerda', 'N.C.']\n",
       "Categories (4, object): ['N.C.', 'No', 'No recuerda', 'Sí']"
      ]
     },
     "execution_count": 19,
     "metadata": {},
     "output_type": "execute_result"
    }
   ],
   "source": [
    "df2['P16'].unique()"
   ]
  },
  {
   "cell_type": "code",
   "execution_count": 25,
   "metadata": {},
   "outputs": [
    {
     "data": {
      "text/plain": [
       "P16\n",
       "N.C.            0.155279\n",
       "No             25.517882\n",
       "No recuerda     2.079106\n",
       "Sí             72.249207\n",
       "Name: PESO, dtype: float64"
      ]
     },
     "execution_count": 25,
     "metadata": {},
     "output_type": "execute_result"
    }
   ],
   "source": [
    "df2.groupby(['P16'])['PESO'].sum() / 6308 * 100"
   ]
  },
  {
   "cell_type": "code",
   "execution_count": 59,
   "metadata": {
    "scrolled": true
   },
   "outputs": [
    {
     "name": "stdout",
     "output_type": "stream",
     "text": [
      "                  PESO\n",
      "P16                   \n",
      "N.C.          0.155279\n",
      "No           25.517882\n",
      "No recuerda   2.079106\n",
      "Sí           72.249207\n",
      "                                        PESO\n",
      "P17                                         \n",
      "(NO LEER) Ni positivo ni negativo  22.753329\n",
      "Muy negativo                        3.976934\n",
      "Muy positivo                        7.060510\n",
      "N.C.                                0.200587\n",
      "N.S.                                3.920181\n",
      "Negativo                           20.774192\n",
      "Positivo                           41.315742\n",
      "                                   PESO\n",
      "P18                                    \n",
      "N.C.                           0.065536\n",
      "N.P. (No ha trabajado nunca)   8.088951\n",
      "N.S.                           1.942517\n",
      "No                            37.384036\n",
      "Sí, algunas                   33.087112\n",
      "Sí, la mayor parte            14.144562\n",
      "Sí, todas                      5.288760\n",
      "                         PESO\n",
      "P18A                         \n",
      "N.C.                 0.116582\n",
      "N.S.                 2.527758\n",
      "No                  15.761573\n",
      "Sí, algunas         51.201918\n",
      "Sí, la mayor parte  23.787001\n",
      "Sí, todas            6.606642\n",
      "                          PESO\n",
      "P19_1                         \n",
      "Bastante de acuerdo  37.465250\n",
      "Muy de acuerdo       38.730992\n",
      "N.C.                  0.046275\n",
      "N.S.                  4.816249\n",
      "Nada de acuerdo       4.591503\n",
      "Poco de acuerdo      14.351205\n",
      "                          PESO\n",
      "P19_2                         \n",
      "Bastante de acuerdo  48.312714\n",
      "Muy de acuerdo       18.969816\n",
      "N.C.                  0.211779\n",
      "N.S.                  5.957863\n",
      "Nada de acuerdo       5.830913\n",
      "Poco de acuerdo      20.718389\n",
      "                          PESO\n",
      "P19_3                         \n",
      "Bastante de acuerdo  45.847876\n",
      "Muy de acuerdo       33.686319\n",
      "N.C.                  0.111477\n",
      "N.S.                  5.341408\n",
      "Nada de acuerdo       3.562571\n",
      "Poco de acuerdo      11.451823\n"
     ]
    }
   ],
   "source": [
    "for var in df2[['P16','P17','P18','P18A','P19_1','P19_2','P19_3']]:\n",
    "    table = pd.pivot_table(df2, values='PESO', index=[var], aggfunc=np.sum) / 6308 * 100\n",
    "    print(table)"
   ]
  },
  {
   "cell_type": "code",
   "execution_count": 71,
   "metadata": {},
   "outputs": [
    {
     "name": "stdout",
     "output_type": "stream",
     "text": [
      "                  PESO       PESO\n",
      "P16                              \n",
      "N.C.          0.245253   0.060020\n",
      "No           28.370561  22.497617\n",
      "No recuerda   2.784464   1.332311\n",
      "Sí           68.530025  76.186880\n",
      "------------------\n",
      "                                        PESO       PESO\n",
      "P17                                                    \n",
      "(NO LEER) Ni positivo ni negativo  24.574260  20.825424\n",
      "Muy negativo                        4.487916   3.435933\n",
      "Muy positivo                        4.529408   9.740307\n",
      "N.C.                                0.166677   0.236488\n",
      "N.S.                                4.931319   2.849641\n",
      "Negativo                           24.389088  16.946932\n",
      "Positivo                           36.851634  46.042102\n",
      "------------------\n",
      "                                   PESO       PESO\n",
      "P18                                               \n",
      "N.C.                           0.040814   0.091710\n",
      "N.P. (No ha trabajado nunca)  12.722318   3.183388\n",
      "N.S.                           2.520623   1.330450\n",
      "No                            36.084741  38.759661\n",
      "Sí, algunas                   30.502497  35.823564\n",
      "Sí, la mayor parte            12.232768  16.168668\n",
      "Sí, todas                      5.826541   4.719386\n",
      "------------------\n",
      "                         PESO       PESO\n",
      "P18A                                    \n",
      "N.C.                 0.030333   0.207898\n",
      "N.S.                 2.587423   2.464589\n",
      "No                  16.443002  15.040111\n",
      "Sí, algunas         51.162053  51.244125\n",
      "Sí, la mayor parte  22.978391  24.643114\n",
      "Sí, todas            6.729100   6.476991\n",
      "------------------\n",
      "                          PESO       PESO\n",
      "P19_1                                    \n",
      "Bastante de acuerdo  38.209649  36.677121\n",
      "Muy de acuerdo       39.357830  38.067330\n",
      "N.C.                  0.089982   0.000000\n",
      "N.S.                  5.839858   3.732507\n",
      "Nada de acuerdo       3.542078   5.702578\n",
      "Poco de acuerdo      12.890906  15.897291\n",
      "------------------\n",
      "                          PESO       PESO\n",
      "P19_2                                    \n",
      "Bastante de acuerdo  46.123397  50.630646\n",
      "Muy de acuerdo       16.056936  22.053819\n",
      "N.C.                  0.188779   0.236129\n",
      "N.S.                  7.529223   4.294191\n",
      "Nada de acuerdo       6.450092   5.175359\n",
      "Poco de acuerdo      23.581874  17.686684\n",
      "------------------\n",
      "                          PESO       PESO\n",
      "P19_3                                    \n",
      "Bastante de acuerdo  46.437145  45.223988\n",
      "Muy de acuerdo       29.702004  37.904700\n",
      "N.C.                  0.175956   0.043211\n",
      "N.S.                  7.297626   3.270268\n",
      "Nada de acuerdo       4.081689   3.012957\n",
      "Poco de acuerdo      12.235882  10.621704\n",
      "------------------\n"
     ]
    }
   ],
   "source": [
    "for var in df2[['P16','P17','P18','P18A','P19_1','P19_2','P19_3']]:\n",
    "    for seg in ['Mujer','Hombre']:\n",
    "        dfs = df2[df2['P46'] == seg]\n",
    "        if seg == 'Mujer':\n",
    "            tablew = pd.pivot_table(dfs, values='PESO', index=[var], aggfunc=np.sum) / 3244 * 100\n",
    "        else:\n",
    "            tablem = pd.pivot_table(dfs, values='PESO', index=[var], aggfunc=np.sum) / 3064 * 100\n",
    "    mydf = pd.concat([tablew,tablem], axis = 1)\n",
    "    print(mydf)\n",
    "    print('------------------')"
   ]
  },
  {
   "cell_type": "code",
   "execution_count": null,
   "metadata": {},
   "outputs": [],
   "source": []
  }
 ],
 "metadata": {
  "kernelspec": {
   "display_name": "Python 3",
   "language": "python",
   "name": "python3"
  },
  "language_info": {
   "codemirror_mode": {
    "name": "ipython",
    "version": 3
   },
   "file_extension": ".py",
   "mimetype": "text/x-python",
   "name": "python",
   "nbconvert_exporter": "python",
   "pygments_lexer": "ipython3",
   "version": "3.7.4"
  }
 },
 "nbformat": 4,
 "nbformat_minor": 2
}
