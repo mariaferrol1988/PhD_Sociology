{
 "cells": [
  {
   "cell_type": "markdown",
   "metadata": {},
   "source": [
    "# Requirements "
   ]
  },
  {
   "cell_type": "code",
   "execution_count": 12,
   "metadata": {},
   "outputs": [],
   "source": [
    "import pandas as pd \n",
    "import numpy as np\n",
    "import pyreadstat\n",
    "pd.set_option(\"max.columns\", None)\n",
    "pd.set_option(\"max.rows\", None)\n",
    "df = pd.read_spss('./Files/3216.sav')\n",
    "df['PESO'] = df['PESO'].str.replace(',','.').astype('float')"
   ]
  },
  {
   "cell_type": "markdown",
   "metadata": {},
   "source": [
    "# Variable selection"
   ]
  },
  {
   "cell_type": "code",
   "execution_count": 13,
   "metadata": {},
   "outputs": [],
   "source": [
    "my_vars = ['CUES','CCAA','TAMUNI','P1_1','P1_2','P1_3','P1_4','P1_5','P2_1','P2_2','P2_3','P2_4','P2_5',\n",
    " 'P3A','P3B','P4_1','P4_2','P4_3','P4_4','P4_5','P4_6','P4_7','P4_8','P4_9','P4_10',\n",
    " 'P5_1','P5_2','P5_3','P5_4','P5_5','P5_6','P5_7','P5_8','P5_9','P5_10','P5_11','P5_12','P5_13','P5_14',\n",
    " 'P6','P7A','P7B','P8','P9','P11A','P11B','P16','P17','P18','P18A','P19_1','P19_2','P19_3',\n",
    " 'P34_1','P34_2','P34_3','P34_4','P34_5','P34_6','P34_7','P34_8','P34_9','P34_10',\n",
    " 'P35_1','P35_2','P35_3','P35_4','P35_5','P35_6','P35_7','P43',\n",
    " 'RECUERDO','P46','P47','ESTUDIOS','P49AA',\n",
    " 'P53','P54','ESTATUS','PESO']\n",
    "df2 = df[my_vars].copy()"
   ]
  },
  {
   "cell_type": "markdown",
   "metadata": {},
   "source": [
    "# Cross Tabs"
   ]
  },
  {
   "cell_type": "code",
   "execution_count": null,
   "metadata": {},
   "outputs": [],
   "source": [
    "# Frequencies: \n",
    "# P16: Knowledge / information about IA and robots\n",
    "# P17: Attitudes - positive vs negative regarding AI and robots\n",
    "# P18: Thoughts about the impact of Artificial Inteligence on the job market\n",
    "# P18A: Thoughts about the impact of Artificial Inteligence on household tasks\n",
    "# P19: Attitudes towards AI and robots"
   ]
  },
  {
   "cell_type": "code",
   "execution_count": 19,
   "metadata": {
    "scrolled": true
   },
   "outputs": [
    {
     "data": {
      "text/plain": [
       "['Sí', 'No', 'No recuerda', 'N.C.']\n",
       "Categories (4, object): ['N.C.', 'No', 'No recuerda', 'Sí']"
      ]
     },
     "execution_count": 19,
     "metadata": {},
     "output_type": "execute_result"
    }
   ],
   "source": [
    "df2['P16'].unique()"
   ]
  },
  {
   "cell_type": "code",
   "execution_count": 25,
   "metadata": {},
   "outputs": [
    {
     "data": {
      "text/plain": [
       "P16\n",
       "N.C.            0.155279\n",
       "No             25.517882\n",
       "No recuerda     2.079106\n",
       "Sí             72.249207\n",
       "Name: PESO, dtype: float64"
      ]
     },
     "execution_count": 25,
     "metadata": {},
     "output_type": "execute_result"
    }
   ],
   "source": [
    "df2.groupby(['P16'])['PESO'].sum() / 6308 * 100"
   ]
  },
  {
   "cell_type": "code",
   "execution_count": 40,
   "metadata": {},
   "outputs": [],
   "source": [
    "tableP16 = pd.pivot_table(df2, values='PESO', index=['P16'], aggfunc=np.sum) / 6308 * 100\n",
    "tableP17 = pd.pivot_table(df2, values='PESO', index=['P17'], aggfunc=np.sum) / 6308 * 100\n",
    "tableP18 = pd.pivot_table(df2, values='PESO', index=['P18'], aggfunc=np.sum) / 6308 * 100\n",
    "tableP18A = pd.pivot_table(df2, values='PESO', index=['P18A'], aggfunc=np.sum) / 6308 * 100\n",
    "tableP19_1 = pd.pivot_table(df2, values='PESO', index=['P19_1'], aggfunc=np.sum) / 6308 * 100\n",
    "tableP19_2 = pd.pivot_table(df2, values='PESO', index=['P19_2'], aggfunc=np.sum) / 6308 * 100\n",
    "tableP19_3 = pd.pivot_table(df2, values='PESO', index=['P19_3'], aggfunc=np.sum) / 6308 * 100"
   ]
  },
  {
   "cell_type": "code",
   "execution_count": 41,
   "metadata": {},
   "outputs": [],
   "source": [
    "table_list = [tableP16, tableP17, tableP18, tableP18A, tableP19_1, tableP19_2, tableP19_3 ]"
   ]
  },
  {
   "cell_type": "code",
   "execution_count": 42,
   "metadata": {
    "scrolled": true
   },
   "outputs": [
    {
     "name": "stdout",
     "output_type": "stream",
     "text": [
      "                  PESO\n",
      "P16                   \n",
      "N.C.          0.155279\n",
      "No           25.517882\n",
      "No recuerda   2.079106\n",
      "Sí           72.249207\n",
      "                                        PESO\n",
      "P17                                         \n",
      "(NO LEER) Ni positivo ni negativo  22.753329\n",
      "Muy negativo                        3.976934\n",
      "Muy positivo                        7.060510\n",
      "N.C.                                0.200587\n",
      "N.S.                                3.920181\n",
      "Negativo                           20.774192\n",
      "Positivo                           41.315742\n",
      "                                   PESO\n",
      "P18                                    \n",
      "N.C.                           0.065536\n",
      "N.P. (No ha trabajado nunca)   8.088951\n",
      "N.S.                           1.942517\n",
      "No                            37.384036\n",
      "Sí, algunas                   33.087112\n",
      "Sí, la mayor parte            14.144562\n",
      "Sí, todas                      5.288760\n",
      "                         PESO\n",
      "P18A                         \n",
      "N.C.                 0.116582\n",
      "N.S.                 2.527758\n",
      "No                  15.761573\n",
      "Sí, algunas         51.201918\n",
      "Sí, la mayor parte  23.787001\n",
      "Sí, todas            6.606642\n",
      "                          PESO\n",
      "P19_1                         \n",
      "Bastante de acuerdo  37.465250\n",
      "Muy de acuerdo       38.730992\n",
      "N.C.                  0.046275\n",
      "N.S.                  4.816249\n",
      "Nada de acuerdo       4.591503\n",
      "Poco de acuerdo      14.351205\n",
      "                          PESO\n",
      "P19_2                         \n",
      "Bastante de acuerdo  48.312714\n",
      "Muy de acuerdo       18.969816\n",
      "N.C.                  0.211779\n",
      "N.S.                  5.957863\n",
      "Nada de acuerdo       5.830913\n",
      "Poco de acuerdo      20.718389\n",
      "                          PESO\n",
      "P19_3                         \n",
      "Bastante de acuerdo  45.847876\n",
      "Muy de acuerdo       33.686319\n",
      "N.C.                  0.111477\n",
      "N.S.                  5.341408\n",
      "Nada de acuerdo       3.562571\n",
      "Poco de acuerdo      11.451823\n"
     ]
    }
   ],
   "source": [
    "for table in table_list: \n",
    "    print(table)"
   ]
  },
  {
   "cell_type": "code",
   "execution_count": 54,
   "metadata": {},
   "outputs": [
    {
     "data": {
      "text/plain": [
       "CategoricalIndex(['N.C.', 'No', 'No recuerda', 'Sí'], categories=['N.C.', 'No', 'No recuerda', 'Sí'], ordered=False, dtype='category', name='P16')"
      ]
     },
     "execution_count": 54,
     "metadata": {},
     "output_type": "execute_result"
    }
   ],
   "source": [
    "df2['']"
   ]
  },
  {
   "cell_type": "code",
   "execution_count": null,
   "metadata": {},
   "outputs": [],
   "source": []
  }
 ],
 "metadata": {
  "kernelspec": {
   "display_name": "Python 3",
   "language": "python",
   "name": "python3"
  },
  "language_info": {
   "codemirror_mode": {
    "name": "ipython",
    "version": 3
   },
   "file_extension": ".py",
   "mimetype": "text/x-python",
   "name": "python",
   "nbconvert_exporter": "python",
   "pygments_lexer": "ipython3",
   "version": "3.7.4"
  }
 },
 "nbformat": 4,
 "nbformat_minor": 2
}
