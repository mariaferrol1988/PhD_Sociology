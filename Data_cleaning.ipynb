{
 "cells": [
  {
   "cell_type": "code",
   "execution_count": 21,
   "metadata": {},
   "outputs": [],
   "source": [
    "import pandas as pd \n",
    "import numpy as np\n",
    "import pyreadstat\n",
    "pd.set_option(\"max.columns\", None)\n",
    "pd.set_option(\"max.rows\", None)\n",
    "df = pd.read_spss('./Files/3216.sav')"
   ]
  },
  {
   "cell_type": "markdown",
   "metadata": {},
   "source": [
    "# Variable selection "
   ]
  },
  {
   "cell_type": "code",
   "execution_count": 22,
   "metadata": {},
   "outputs": [],
   "source": [
    "my_vars = ['CUES','CCAA','TAMUNI','P1_1','P1_2','P1_3','P1_4','P1_5','P2_1','P2_2','P2_3','P2_4','P2_5',\n",
    " 'P3A','P3B','P4_1','P4_2','P4_3','P4_4','P4_5','P4_6','P4_7','P4_8','P4_9','P4_10',\n",
    " 'P5_1','P5_2','P5_3','P5_4','P5_5','P5_6','P5_7','P5_8','P5_9','P5_10','P5_11','P5_12','P5_13','P5_14',\n",
    " 'P6','P7A','P7B','P8','P9','P11A','P11B','P16','P17','P18','P18A','P19_1','P19_2','P19_3',\n",
    " 'P34_1','P34_2','P34_3','P34_4','P34_5','P34_6','P34_7','P34_8','P34_9','P34_10',\n",
    " 'P35_1','P35_2','P35_3','P35_4','P35_5','P35_6','P35_7','P43',\n",
    " 'RECUERDO','P46','P47','ESTUDIOS','P49AA',\n",
    " 'P53','P54','ESTATUS','PESO']\n",
    "df2 = df[my_vars].copy()"
   ]
  },
  {
   "cell_type": "markdown",
   "metadata": {},
   "source": [
    "# Variable cleaning"
   ]
  },
  {
   "cell_type": "code",
   "execution_count": 23,
   "metadata": {},
   "outputs": [],
   "source": [
    "# Variable transformation - string to float\n",
    "df2['CUES'] = df2['CUES'].astype('float')\n",
    "df2['P47'] = df2['P47'].astype('float')\n",
    "df2['PESO'] = df2['PESO'].str.replace(',','.').astype('float')\n",
    "\n",
    "# Variable transformation - age(P53) numeric to bins\n",
    "df2['P47B'] = pd.cut(df2['P47'], bins = [17,24,34,44,54,64,74,84,100], labels = ['<25 años','25-34 años', '34-44 años',\n",
    "                                                                         '45-54 años', '55-64 años', '65-74 años',\n",
    "                                                                         '75-84 años','>84 años'])"
   ]
  },
  {
   "cell_type": "code",
   "execution_count": 24,
   "metadata": {},
   "outputs": [],
   "source": [
    "df2.to_csv('./Files/CIS_innovarometro.csv', index = None, sep = ';')"
   ]
  },
  {
   "cell_type": "code",
   "execution_count": null,
   "metadata": {},
   "outputs": [],
   "source": []
  }
 ],
 "metadata": {
  "kernelspec": {
   "display_name": "Python 3",
   "language": "python",
   "name": "python3"
  },
  "language_info": {
   "codemirror_mode": {
    "name": "ipython",
    "version": 3
   },
   "file_extension": ".py",
   "mimetype": "text/x-python",
   "name": "python",
   "nbconvert_exporter": "python",
   "pygments_lexer": "ipython3",
   "version": "3.7.4"
  }
 },
 "nbformat": 4,
 "nbformat_minor": 2
}
