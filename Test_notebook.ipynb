{
 "cells": [
  {
   "cell_type": "code",
   "execution_count": 1,
   "metadata": {},
   "outputs": [],
   "source": [
    "import pandas as pd \n",
    "import numpy as np\n",
    "import pyreadstat\n",
    "pd.set_option(\"max.columns\", None)\n",
    "pd.set_option(\"max.rows\", None)\n",
    "df = pd.read_spss('./Files/3216.sav')"
   ]
  },
  {
   "cell_type": "code",
   "execution_count": 4,
   "metadata": {},
   "outputs": [],
   "source": [
    "my_vars = ['ESTUDIO','CCAA','PROV','MUN','TAMUNI','P1_1','P1_2','P1_3','P1_4','P1_5','P2_1','P2_2','P2_3','P2_4','P2_5',\n",
    " 'P3A','P3B','P4_1','P4_2','P4_3','P4_4','P4_5','P4_6','P4_7','P4_8','P4_9','P4_10',\n",
    " 'P5_1','P5_2','P5_3','P5_4','P5_5','P5_6','P5_7','P5_8','P5_9','P5_10','P5_11','P5_12','P5_13','P5_14',\n",
    " 'P6','P7A','P7B','P8','P9','P11A','P11B','P16','P17','P18','P18A','P19_1','P19_2','P19_3',\n",
    " 'P34_1','P34_2','P34_3','P34_4','P34_5','P34_6','P34_7','P34_8','P34_9','P34_10',\n",
    " 'P35_1','P35_2','P35_3','P35_4','P35_5','P35_6','P35_7','P43','P45','P45A','P45AR',\n",
    " 'RECUERDO','P46','P47','P48','P48A','P49','P49A','ESTUDIOS','P49AA',\n",
    " 'P53','P54','ESTATUS','P60', 'P61','P62']\n",
    "df2 = df[my_vars].copy()"
   ]
  },
  {
   "cell_type": "code",
   "execution_count": 5,
   "metadata": {},
   "outputs": [],
   "source": [
    "# The function extracts all data frame variables and unique responses attached to a code\n",
    "\n",
    "def resp_codes(df, varnames):\n",
    "    # df: dataframe that is going to be used to extrat response code\n",
    "    # varnames: names of the variables needed to store the codes, tipically they will be three:\n",
    "        # varname a: suggested - var is the name of the original variable / column name\n",
    "        # varname b: suggested - resp is the value of the variable generally an string / column value\n",
    "        # varname c: suggested - code is the code applied to resp, only one code by unique variable response\n",
    "    \n",
    "    df_tot = pd.DataFrame(columns = varnames)\n",
    "    for var in df.columns: \n",
    "        ctr = 0\n",
    "        \n",
    "        while ctr < len(df[var].unique()): \n",
    "            \n",
    "            my_row = np.array([[df[var].name, df[var].unique()[ctr], ctr + 1]])\n",
    "            df_par = pd.DataFrame(columns= varnames, data = my_row)\n",
    "            df_tot = pd.concat([df_tot, df_par], ignore_index= True)\n",
    "            ctr += 1\n",
    "    \n",
    "    return df_tot"
   ]
  },
  {
   "cell_type": "code",
   "execution_count": 6,
   "metadata": {},
   "outputs": [],
   "source": [
    "my_resp = resp_codes(df2,['var','resp','code'])"
   ]
  },
  {
   "cell_type": "code",
   "execution_count": 8,
   "metadata": {},
   "outputs": [
    {
     "data": {
      "text/plain": [
       "array(['ESTUDIO', 'CCAA', 'PROV', 'MUN', 'TAMUNI', 'P1_1', 'P1_2', 'P1_3',\n",
       "       'P1_4', 'P1_5', 'P2_1', 'P2_2', 'P2_3', 'P2_4', 'P2_5', 'P3A',\n",
       "       'P3B', 'P4_1', 'P4_2', 'P4_3', 'P4_4', 'P4_5', 'P4_6', 'P4_7',\n",
       "       'P4_8', 'P4_9', 'P4_10', 'P5_1', 'P5_2', 'P5_3', 'P5_4', 'P5_5',\n",
       "       'P5_6', 'P5_7', 'P5_8', 'P5_9', 'P5_10', 'P5_11', 'P5_12', 'P5_13',\n",
       "       'P5_14', 'P6', 'P7A', 'P7B', 'P8', 'P9', 'P11A', 'P11B', 'P16',\n",
       "       'P17', 'P18', 'P18A', 'P19_1', 'P19_2', 'P19_3', 'P34_1', 'P34_2',\n",
       "       'P34_3', 'P34_4', 'P34_5', 'P34_6', 'P34_7', 'P34_8', 'P34_9',\n",
       "       'P34_10', 'P35_1', 'P35_2', 'P35_3', 'P35_4', 'P35_5', 'P35_6',\n",
       "       'P35_7', 'P43', 'P45', 'P45A', 'P45AR', 'RECUERDO', 'P46', 'P47',\n",
       "       'P48', 'P48A', 'P49', 'P49A', 'ESTUDIOS', 'P49AA', 'P53', 'P54',\n",
       "       'ESTATUS', 'P60', 'P61', 'P62'], dtype=object)"
      ]
     },
     "execution_count": 8,
     "metadata": {},
     "output_type": "execute_result"
    }
   ],
   "source": [
    "my_resp['var'].unique()"
   ]
  },
  {
   "cell_type": "code",
   "execution_count": 26,
   "metadata": {
    "scrolled": true
   },
   "outputs": [
    {
     "data": {
      "text/plain": [
       "array(['Albacete', 'Alicante/Alacant', 'Almería', 'Araba/Álava',\n",
       "       'Asturias', 'Badajoz', 'Balears (Illes)', 'Barcelona', 'Bizkaia',\n",
       "       'Burgos', 'Cantabria', 'Castellón/Castelló', 'Ceuta',\n",
       "       'Ciudad Real', 'Coruña (A)', 'Cuenca', 'Cáceres', 'Cádiz',\n",
       "       'Córdoba', 'Gipuzkoa', 'Girona', 'Granada', 'Guadalajara',\n",
       "       'Huelva', 'Huesca', 'Jaén', 'León', 'Lleida', 'Lugo', 'Madrid',\n",
       "       'Melilla', 'Murcia', 'Málaga', 'Navarra', 'Ourense', 'Palencia',\n",
       "       'Palmas (Las)', 'Pontevedra', 'Rioja (La)', 'Salamanca',\n",
       "       'Santa Cruz de Tenerife', 'Segovia', 'Sevilla', 'Soria',\n",
       "       'Tarragona', 'Teruel', 'Toledo', 'Valencia/València', 'Valladolid',\n",
       "       'Zamora', 'Zaragoza', 'Ávila'], dtype=object)"
      ]
     },
     "execution_count": 26,
     "metadata": {},
     "output_type": "execute_result"
    }
   ],
   "source": [
    "# Para las categóricas\n",
    "np.sort(df['PROV'].unique())"
   ]
  },
  {
   "cell_type": "code",
   "execution_count": 6,
   "metadata": {},
   "outputs": [],
   "source": [
    "TAMUNI = {'Menos o igual a 2.000 habitantes': 1, '2.001 a 10.000 habitantes':2, '10.001 a 50.000 habitantes': 3, \n",
    "          '50.001 a 100.000 habitantes': 4, '100.001 a 400.000 habitantes': 5, '400.001 a 1.000.000 habitantes': 6,\n",
    "          'Más de 1.000.000 habitantes': 7}"
   ]
  },
  {
   "cell_type": "code",
   "execution_count": 21,
   "metadata": {},
   "outputs": [
    {
     "data": {
      "text/plain": [
       "[('Menos o igual a 2.000 habitantes', 1),\n",
       " ('2.001 a 10.000 habitantes', 2),\n",
       " ('10.001 a 50.000 habitantes', 3),\n",
       " ('50.001 a 100.000 habitantes', 4),\n",
       " ('100.001 a 400.000 habitantes', 5),\n",
       " ('400.001 a 1.000.000 habitantes', 6),\n",
       " ('Más de 1.000.000 habitantes', 7)]"
      ]
     },
     "execution_count": 21,
     "metadata": {},
     "output_type": "execute_result"
    }
   ],
   "source": [
    "mycodes['TAMUNI']"
   ]
  },
  {
   "cell_type": "code",
   "execution_count": 8,
   "metadata": {},
   "outputs": [],
   "source": [
    "mycodes =  {'TAMUNI': [('Menos o igual a 2.000 habitantes',1), ('2.001 a 10.000 habitantes',2), \n",
    "                       ('10.001 a 50.000 habitantes', 3), ('50.001 a 100.000 habitantes', 4),\n",
    "                       ('100.001 a 400.000 habitantes', 5), ('400.001 a 1.000.000 habitantes', 6),\n",
    "                       ('Más de 1.000.000 habitantes', 7)],\n",
    "            'P1_':[('Ningún interés', 1),('Poco interés', 2), ('(NO LEER) Suficiente interés', 3),('Bastante interés', 4), \n",
    "                   ('Mucho interés', 5),('N.S.', 9800),('N.C.', 9900),],\n",
    "            'P2_':[('Nada informado/a', 1), ('Poco informado/a', 2), ('(NO LEER) Suficiente informado/a', 3),\n",
    "                   ('Bastante informado/a', 4) ,('Muy informado/a', 5), ('N.S.', 9800), ('N.C.', 9900)],\n",
    "            'P3A':[('N.S.', 9800), ('N.C.', 9900)],\n",
    "            'P3B':[('Ninguna más', 9700), ('N.S.', 9800), ('N.C.', 9900)],\n",
    "            'P4_':[('Nada de acuerdo', 1), ('Poco de acuerdo', 2), ('Bastante de acuerdo', 3), \n",
    "                   ('Muy de acuerdo', 4), ('N.S.', 9800), ('N.C.', 9900)],\n",
    "            'P5_':[('Ninguna importancia', 1), ('Poca importancia', 2), ('Bastante importancia', 3), \n",
    "                   ('Mucha importancia', 4), ('N.S.', 9800), ('N.C.', 9900)],\n",
    "            'P6':[('Los perjuicios de la innovación son mayores que sus benefici', 1),\n",
    "                ('Los beneficios y los perjuicios de la innovación están equil', 2),\n",
    "                ('Los beneficios de la innovación son mayores que sus perjuici', 3), ('N.S.', 9800), ('N.C.', 9900)],\n",
    "            'P7':[('(NO LEER) Otras', 9600), ('(NO LEER) Ninguna', 9700), ('N.S.', 9800), ('N.C.', 9900)],\n",
    "            'P8':[('Debe ser exclusivamente pública (de cualquier Administración', 1),\n",
    "                  ('Debe ser pública, con implicación del sector privado (empres', 2),\n",
    "                  ('Debe ser, en la misma medida, del sector público y del priva', 3),\n",
    "                  ('Debe ser privada, con implicación del sector público (de cua', 4),\n",
    "                  ('Debe ser exclusivamente privada (empresas o inversores priva', 5),\n",
    "                  ('(NO LEER) Depende del sector', 9500),\n",
    "                  ('N.S.', 9800), \n",
    "                  ('N.C.', 9900)],\n",
    "            'P9':[('Poco', 1), ('Suficiente', 2), ('Mucho', 3), ('N.S.', 9800),('N.C.', 9900)],\n",
    "            'P11':[('N.S.', 9800),('N.C.', 9900)],\n",
    "            'P16':[('Sí',1), ('No',2), ('No recuerda', 9800), ('N.C.', 9900)],\n",
    "            'P17':[('Muy negativo', 1), ('Negativo', 2), ('(NO LEER) Ni positivo ni negativo', 3),\n",
    "                   ('Positivo', 4), ('Muy positivo', 5), ('N.S.', 9800), ('N.C.', 9900)],\n",
    "            'P18':[('No', 1), ('Sí, algunas', 2), ('Sí, la mayor parte', 3), ('Sí, todas', 4), \n",
    "                   ('N.P. (No ha trabajado nunca)', 9400), ('N.S.', 9800), ('N.C.', 9900)],\n",
    "            'P19_':[('Nada de acuerdo', 1), ('Poco de acuerdo', 2), ('Bastante de acuerdo', 3),\n",
    "                    ('Muy de acuerdo', 4), ('N.S.', 9800), ('N.C.', 9900)],\n",
    "            'P34_':[('Ud. mismo/a', 1), ('Un/a miembro de su familia', 2), ('Un/a amigo/a o conocido/a cercano/a', 3),\n",
    "                    ('(NO LEER) No tiene/puede/sabe ni Ud. ni ningún familiar, ami', 4), ('N.S./N.C.', 9900)],\n",
    "            'P35_':[('1 persona', 1), ('2 personas', 2),('3 personas', 3),('4 personas', 4),('5 personas', 5),\n",
    "                    ('6 personas', 6),('7 personas', 7),('8 personas', 8),('9 personas', 9),('10 o más personas'),\n",
    "                    ('(NO LEER) N.P. (No trabaja/estudia...)', 9400),('Ninguna persona', 9700),\n",
    "                    ('N.S./N.R.', 9800),('N.C.', 9900)],\n",
    "            'P43':[('1 Izquierda', 1),('2', 2),('3', 3),('4', 4),('5', 5),('6', 6),\n",
    "                   ('7', 7),('8', 8),('9', 9),('10 Derecha', 10),('(NO LEER) Ninguna', 11),],\n",
    "            'P45A':[('Otros partidos',9600),(np.nan, 9400),('No recuerda', 9800),('N.C.', 9900)],\n",
    "            'RECUERDO':[(np.nan, 9401),('No tenía edad', 9402),('Otros', 9403),('No tenía derecho a voto', 9404),('No recuerda', 9800),('N.C.', 9900),],\n",
    "            'P48':[('N.C.', 9900)],\n",
    "            'P48A':[(np.nan, 9401), ('N.C.', 9900)],\n",
    "            'P49':[('N.C.', 9900)],\n",
    "            'P49A':[('Menos de 5 años de escolarización', 1),('Educación primaria (Educación primaria de LOGSE, 5º Curso de', 2)\n",
    "                    ,('Educación secundaria (ESO, EGB. Graduado Escolar. Certificad', 3),('Bachillerato (Bachillerato LOGSE, BUP, Bachillerato superior', 4)\n",
    "                    ,('Cualificación profesional grado inicial (FP grado inicial).', 5),('FP de grado medio (Ciclo/módulo formativo de FP (grado medio', 6)\n",
    "                    ,('FP de grado superior (grado superior), Ciclos de Artes Plást', 7),('Diplomatura (ATENCIÓN: solo Diplomaturas oficiales, no codif', 8)\n",
    "                    ,('Arquitectura-ingeniería técnica (Arquitectura/ingeniería téc', 9),('Grado (Estudios de grado, Enseñanzas Artísticas equivalentes', 10)\n",
    "                    ,('Licenciatura (Titulaciones con equivalencia oficial: 2º cicl', 11),('Arquitectura/ingeniería', 12)\n",
    "                    ,('Títulos propios de posgrado (máster no oficial, etc.)', 13),('Máster oficial universitario (Especialidades médicas o equiv', 14)\n",
    "                    ,('Doctorado', 15),('Otros estudios', 9600),(np.nan, 9400),('N.S.', 9800),('N.C.', 9900)],\n",
    "            'ESTUDIOS':[(np.nan, 9400), ('N.S./N.R.', 9800), ('N.C.', 9900)],\n",
    "            'P53':[('N.C.', 9900)],\n",
    "            'ESTATUS':[('Clase alta/media-alta', 1),('Nuevas clases medias', 2),('Viejas clases medias', 3),\n",
    "                       ('Obreros/as cualificados/as', 4),('Obreros/as no cualificados/as', 5),('No consta', 9800)],\n",
    "            'P60':[('Creyente de otra religión', 9600), ('N.C.', 9900)],\n",
    "            'P61':[('No tienen ingresos de ningún tipo', 1),('Menos o igual a 300 €', 2),('De 301 a 600 €', 3)\n",
    "                   ,('De 601 a 900 €', 4),('De 901 a 1.200 €', 5),('De 1.201 a 1.800 €', 6),('De 1.801 a 2.400 €', 7)\n",
    "                   ,('De 2.401 a 3.000 €', 8),('De 3.001 a 4.500 €', 9),('De 4.501 a 6.000 €', 10),('Más de 6.000 €', 11),\n",
    "                   ('N.S.', 9800),('N.C.', 9900)],\n",
    "            'P62':[('No tienen ingresos de ningún tipo', 1),('Menos o igual a 300 €', 2),('De 301 a 600 €', 3)\n",
    "                   ,('De 601 a 900 €', 4),('De 901 a 1.200 €', 5),('De 1.201 a 1.800 €', 6),('De 1.801 a 2.400 €', 7)\n",
    "                   ,('De 2.401 a 3.000 €', 8),('De 3.001 a 4.500 €', 9),('De 4.501 a 6.000 €', 10),('Más de 6.000 €', 11),\n",
    "                   ('N.S.', 9800),('N.C.', 9900)]}"
   ]
  },
  {
   "cell_type": "code",
   "execution_count": null,
   "metadata": {},
   "outputs": [],
   "source": [
    "# Next step \n",
    "# 1. Dictionary of variables --> Ok \n",
    "# 2. List of variables sorted / unsorted\n",
    "# 3. Function to separate variables sorted & unsorted\n",
    "# 4. Function to return codes in the dictionary\n",
    "# 5. Function to return the final dataframe\n",
    "# 6. Pack the function "
   ]
  },
  {
   "cell_type": "code",
   "execution_count": 16,
   "metadata": {},
   "outputs": [],
   "source": [
    "vsorted = ['TAMUNI','P1_1','P1_2','P1_3','P1_4','P1_5','P2_1','P2_2','P2_3','P2_4','P2_5',\n",
    " 'P3A','P3B','P4_1','P4_2','P4_3','P4_4','P4_5','P4_6','P4_7','P4_8','P4_9','P4_10',\n",
    " 'P5_1','P5_2','P5_3','P5_4','P5_5','P5_6','P5_7','P5_8','P5_9','P5_10','P5_11','P5_12','P5_13','P5_14',\n",
    " 'P6','P7A','P7B','P8','P9','P11A','P11B','P16','P17','P18','P18A',\n",
    " 'P19_1','P19_2','P19_3','P34_1','P34_2','P34_3','P34_4','P34_5','P34_6','P34_7','P34_8','P34_9','P34_10',\n",
    " 'P35_1','P35_2','P35_3','P35_4','P35_5','P35_6','P35_7','P43','P45A','RECUERDO','P48','P48A','P49','P49A','ESTUDIOS',\n",
    " 'P53','ESTATUS','P60','P61','P62']\n",
    "vunsorted = ['CCAA','PROV','MUN','P45','P45AR','P46','P47','P49AA','P54']\n",
    "vnumer = ['CUES','PESO']"
   ]
  },
  {
   "cell_type": "code",
   "execution_count": 22,
   "metadata": {},
   "outputs": [
    {
     "name": "stdout",
     "output_type": "stream",
     "text": [
      "vsorted ESTUDIO\n",
      "vnumer CUES\n",
      "vunsorted CCAA\n",
      "vunsorted PROV\n",
      "vunsorted MUN\n",
      "vsorted TAMUNI\n",
      "vsorted P1_1\n",
      "vsorted P1_2\n",
      "vsorted P1_3\n",
      "vsorted P1_4\n",
      "vsorted P1_5\n",
      "vsorted P2_1\n",
      "vsorted P2_2\n",
      "vsorted P2_3\n",
      "vsorted P2_4\n",
      "vsorted P2_5\n",
      "vsorted P3A\n",
      "vsorted P3B\n",
      "vsorted P4_1\n",
      "vsorted P4_2\n",
      "vsorted P4_3\n",
      "vsorted P4_4\n",
      "vsorted P4_5\n",
      "vsorted P4_6\n",
      "vsorted P4_7\n",
      "vsorted P4_8\n",
      "vsorted P4_9\n",
      "vsorted P4_10\n",
      "vsorted P5_1\n",
      "vsorted P5_2\n",
      "vsorted P5_3\n",
      "vsorted P5_4\n",
      "vsorted P5_5\n",
      "vsorted P5_6\n",
      "vsorted P5_7\n",
      "vsorted P5_8\n",
      "vsorted P5_9\n",
      "vsorted P5_10\n",
      "vsorted P5_11\n",
      "vsorted P5_12\n",
      "vsorted P5_13\n",
      "vsorted P5_14\n",
      "vsorted P6\n",
      "vsorted P7A\n",
      "vsorted P7B\n",
      "vsorted P8\n",
      "vsorted P9\n",
      "vsorted P11A\n",
      "vsorted P11B\n",
      "vsorted P16\n",
      "vsorted P17\n",
      "vsorted P18\n",
      "vsorted P18A\n",
      "vsorted P19_1\n",
      "vsorted P19_2\n",
      "vsorted P19_3\n",
      "vsorted P34_1\n",
      "vsorted P34_2\n",
      "vsorted P34_3\n",
      "vsorted P34_4\n",
      "vsorted P34_5\n",
      "vsorted P34_6\n",
      "vsorted P34_7\n",
      "vsorted P34_8\n",
      "vsorted P34_9\n",
      "vsorted P34_10\n",
      "vsorted P35_1\n",
      "vsorted P35_2\n",
      "vsorted P35_3\n",
      "vsorted P35_4\n",
      "vsorted P35_5\n",
      "vsorted P35_6\n",
      "vsorted P35_7\n",
      "vsorted P43\n",
      "vunsorted P45\n",
      "vsorted P45A\n",
      "vunsorted P45AR\n",
      "vsorted RECUERDO\n",
      "vunsorted P46\n",
      "vunsorted P47\n",
      "vsorted P48\n",
      "vsorted P48A\n",
      "vsorted P49\n",
      "vsorted P49A\n",
      "vsorted ESTUDIOS\n",
      "vunsorted P49AA\n",
      "vsorted P53\n",
      "vunsorted P54\n",
      "vsorted ESTATUS\n",
      "vsorted P60\n",
      "vsorted P61\n",
      "vsorted P62\n",
      "vnumer PESO\n"
     ]
    }
   ],
   "source": [
    "for var in my_vars2: \n",
    "    if var in vnumer: \n",
    "        print('vnumer' + ' ' + var)\n",
    "    elif var in vunsorted: \n",
    "        print('vunsorted'+ ' ' + var)\n",
    "    else:\n",
    "        print('vsorted'+ ' ' + var)"
   ]
  },
  {
   "cell_type": "code",
   "execution_count": 9,
   "metadata": {},
   "outputs": [],
   "source": [
    "my_vars2 = ['ESTUDIO','CUES','CCAA','PROV','MUN','TAMUNI','P1_1','P1_2','P1_3','P1_4','P1_5','P2_1','P2_2','P2_3','P2_4','P2_5',\n",
    " 'P3A','P3B','P4_1','P4_2','P4_3','P4_4','P4_5','P4_6','P4_7','P4_8','P4_9','P4_10',\n",
    " 'P5_1','P5_2','P5_3','P5_4','P5_5','P5_6','P5_7','P5_8','P5_9','P5_10','P5_11','P5_12','P5_13','P5_14',\n",
    " 'P6','P7A','P7B','P8','P9','P11A','P11B','P16','P17','P18','P18A','P19_1','P19_2','P19_3',\n",
    " 'P34_1','P34_2','P34_3','P34_4','P34_5','P34_6','P34_7','P34_8','P34_9','P34_10',\n",
    " 'P35_1','P35_2','P35_3','P35_4','P35_5','P35_6','P35_7','P43','P45','P45A','P45AR',\n",
    " 'RECUERDO','P46','P47','P48','P48A','P49','P49A','ESTUDIOS','P49AA',\n",
    " 'P53','P54','ESTATUS','P60', 'P61','P62', 'PESO']"
   ]
  },
  {
   "cell_type": "code",
   "execution_count": 13,
   "metadata": {},
   "outputs": [],
   "source": [
    "my_var3 = ['TAMUNI','P1_1','P1_2','P1_3','P1_4','P1_5','P2_1','P2_2','P2_3','P2_4','P2_5',\n",
    " 'P3A','P3B','P4_1','P4_2','P4_3','P4_4','P4_5','P4_6','P4_7','P4_8','P4_9','P4_10',\n",
    " 'P5_1','P5_2','P5_3','P5_4','P5_5','P5_6','P5_7','P5_8','P5_9','P5_10','P5_11','P5_12','P5_13','P5_14',\n",
    " 'P6','P7A','P7B','P8','P9','P11A','P11B','P16','P17','P18','P18A',\n",
    " 'P19_1','P19_2','P19_3','P34_1','P34_2','P34_3','P34_4','P34_5','P34_6','P34_7','P34_8','P34_9','P34_10',\n",
    " 'P35_1','P35_2','P35_3','P35_4','P35_5','P35_6','P35_7','P43','P45A','RECUERDO','P48','P48A','P49','P49A','ESTUDIOS',\n",
    " 'P53','ESTATUS','P60','P61','P62']"
   ]
  },
  {
   "cell_type": "code",
   "execution_count": 15,
   "metadata": {},
   "outputs": [
    {
     "name": "stdout",
     "output_type": "stream",
     "text": [
      "ESTUDIO\n",
      "CUES\n",
      "CCAA\n",
      "PROV\n",
      "MUN\n",
      "P45\n",
      "P45AR\n",
      "P46\n",
      "P47\n",
      "P49AA\n",
      "P54\n",
      "PESO\n"
     ]
    }
   ],
   "source": [
    "for var in my_vars2: \n",
    "    if var not in vsorted: \n",
    "        print(var)"
   ]
  },
  {
   "cell_type": "code",
   "execution_count": 35,
   "metadata": {},
   "outputs": [
    {
     "name": "stdout",
     "output_type": "stream",
     "text": [
      "is not\n",
      "yes_P1_\n",
      "is not\n",
      "is not\n",
      "is not\n",
      "is not\n",
      "is not\n",
      "is not\n",
      "is not\n",
      "is not\n",
      "is not\n",
      "is not\n",
      "is not\n",
      "is not\n",
      "is not\n",
      "is not\n",
      "is not\n",
      "is not\n",
      "is not\n",
      "is not\n",
      "is not\n",
      "is not\n",
      "is not\n",
      "is not\n",
      "is not\n",
      "is not\n",
      "is not\n",
      "is not\n",
      "is not\n",
      "is not\n",
      "is not\n"
     ]
    }
   ],
   "source": [
    "for key in mycodes.keys(): \n",
    "    if 'P1_' in key:\n",
    "        print('yes' + '_' + str(key))\n",
    "    else: \n",
    "        print('is not')"
   ]
  },
  {
   "cell_type": "code",
   "execution_count": 23,
   "metadata": {},
   "outputs": [
    {
     "name": "stdout",
     "output_type": "stream",
     "text": [
      "1 no\n",
      "2 yes\n",
      "3 no\n",
      "4 no\n",
      "5 no\n",
      "6 no\n",
      "7 no\n"
     ]
    }
   ],
   "source": [
    "for key in TAMUNI.keys(): \n",
    "    if key == '2.001 a 10.000 habitantes':\n",
    "        print(str(TAMUNI[key]) + ' ' + 'yes' )\n",
    "    else: \n",
    "        print(str(TAMUNI[key]) + ' ' + 'no' )\n"
   ]
  },
  {
   "cell_type": "code",
   "execution_count": 62,
   "metadata": {},
   "outputs": [
    {
     "name": "stdout",
     "output_type": "stream",
     "text": [
      "[('Menos o igual a 2.000 habitantes', 1), ('2.001 a 10.000 habitantes', 2), ('10.001 a 50.000 habitantes', 3)]\n"
     ]
    }
   ],
   "source": [
    "for value in TAMUNI2.values():\n",
    "    print(value)"
   ]
  },
  {
   "cell_type": "code",
   "execution_count": 63,
   "metadata": {},
   "outputs": [
    {
     "name": "stdout",
     "output_type": "stream",
     "text": [
      "1 no\n",
      "2 yes\n",
      "3 no\n"
     ]
    }
   ],
   "source": [
    "for value in TAMUNI2.values(): \n",
    "    for val in value: \n",
    "        if val[0] == '2.001 a 10.000 habitantes':\n",
    "            print(str(val[1]) + ' ' + 'yes' )\n",
    "        else: \n",
    "            print(str(val[1]) + ' ' + 'no' )"
   ]
  },
  {
   "cell_type": "code",
   "execution_count": 20,
   "metadata": {},
   "outputs": [
    {
     "data": {
      "text/plain": [
       "2"
      ]
     },
     "execution_count": 20,
     "metadata": {},
     "output_type": "execute_result"
    }
   ],
   "source": [
    "TAMUNI['2.001 a 10.000 habitantes']"
   ]
  },
  {
   "cell_type": "code",
   "execution_count": null,
   "metadata": {},
   "outputs": [],
   "source": [
    "# Para las de intervalo "
   ]
  },
  {
   "cell_type": "code",
   "execution_count": null,
   "metadata": {},
   "outputs": [],
   "source": []
  },
  {
   "cell_type": "code",
   "execution_count": 38,
   "metadata": {},
   "outputs": [
    {
     "name": "stdout",
     "output_type": "stream",
     "text": [
      "26\n"
     ]
    }
   ],
   "source": [
    "# Identify the number of variables in the data frame\n",
    "rows = -1\n",
    "for var in df2.columns:\n",
    "    rows += len(df2[var].unique())\n",
    "df1 = pd.DataFrame\n",
    "print(rows)"
   ]
  },
  {
   "cell_type": "code",
   "execution_count": null,
   "metadata": {},
   "outputs": [],
   "source": []
  },
  {
   "cell_type": "code",
   "execution_count": null,
   "metadata": {},
   "outputs": [],
   "source": []
  },
  {
   "cell_type": "code",
   "execution_count": null,
   "metadata": {},
   "outputs": [],
   "source": []
  },
  {
   "cell_type": "code",
   "execution_count": 38,
   "metadata": {},
   "outputs": [
    {
     "name": "stdout",
     "output_type": "stream",
     "text": [
      "26\n"
     ]
    }
   ],
   "source": [
    "# Identify the number of variables in the data frame\n",
    "rows = -1\n",
    "for var in df2.columns:\n",
    "    rows += len(df2[var].unique())\n",
    "df1 = pd.DataFrame\n",
    "print(rows)"
   ]
  },
  {
   "cell_type": "code",
   "execution_count": 83,
   "metadata": {
    "scrolled": false
   },
   "outputs": [
    {
     "name": "stdout",
     "output_type": "stream",
     "text": [
      "['CCAA' 'Andalucía' '1']\n",
      "['TAMUNI' 'Menos o igual a 2.000 habitantes' '1']\n",
      "['TAMUNI' '100.001 a 400.000 habitantes' '2']\n",
      "['TAMUNI' '10.001 a 50.000 habitantes' '3']\n",
      "['TAMUNI' '2.001 a 10.000 habitantes' '4']\n",
      "['TAMUNI' '50.001 a 100.000 habitantes' '5']\n",
      "['P1_1' 'Mucho interés' '1']\n",
      "['P1_1' 'Bastante interés' '2']\n",
      "['P1_1' '(NO LEER) Suficiente interés' '3']\n",
      "['P1_1' 'Ningún interés' '4']\n",
      "['P1_1' 'Poco interés' '5']\n",
      "['P1_1' 'N.S.' '6']\n",
      "['P1_2' 'Mucho interés' '1']\n",
      "['P1_2' '(NO LEER) Suficiente interés' '2']\n",
      "['P1_2' 'Poco interés' '3']\n",
      "['P1_2' 'Ningún interés' '4']\n",
      "['P1_2' 'Bastante interés' '5']\n",
      "['P1_2' 'N.S.' '6']\n",
      "['P2_1' 'Bastante informado/a' '1']\n",
      "['P2_1' 'Nada informado/a' '2']\n",
      "['P2_1' '(NO LEER) Suficiente informado/a' '3']\n",
      "['P2_1' 'Poco informado/a' '4']\n",
      "['P2_1' 'Muy informado/a' '5']\n",
      "['P5_1' 'Mucha importancia' '1']\n",
      "['P5_1' 'Bastante importancia' '2']\n",
      "['P5_1' 'Poca importancia' '3']\n",
      "['P5_1' 'N.S.' '4']\n"
     ]
    }
   ],
   "source": [
    "for var in df2.columns:\n",
    "    ctr = 0\n",
    "    while ctr < len(df2[var].unique()):\n",
    "        print(np.array([df2[var].name, df2[var].unique()[ctr],ctr + 1]))\n",
    "        ctr += 1"
   ]
  },
  {
   "cell_type": "code",
   "execution_count": 92,
   "metadata": {},
   "outputs": [
    {
     "data": {
      "text/html": [
       "<div>\n",
       "<style scoped>\n",
       "    .dataframe tbody tr th:only-of-type {\n",
       "        vertical-align: middle;\n",
       "    }\n",
       "\n",
       "    .dataframe tbody tr th {\n",
       "        vertical-align: top;\n",
       "    }\n",
       "\n",
       "    .dataframe thead th {\n",
       "        text-align: right;\n",
       "    }\n",
       "</style>\n",
       "<table border=\"1\" class=\"dataframe\">\n",
       "  <thead>\n",
       "    <tr style=\"text-align: right;\">\n",
       "      <th></th>\n",
       "      <th>var</th>\n",
       "      <th>resp</th>\n",
       "      <th>code</th>\n",
       "    </tr>\n",
       "  </thead>\n",
       "  <tbody>\n",
       "    <tr>\n",
       "      <th>0</th>\n",
       "      <td>CCAA</td>\n",
       "      <td>Andalucía</td>\n",
       "      <td>1</td>\n",
       "    </tr>\n",
       "    <tr>\n",
       "      <th>1</th>\n",
       "      <td>TAMUNI</td>\n",
       "      <td>Menos o igual a 2.000 habitantes</td>\n",
       "      <td>1</td>\n",
       "    </tr>\n",
       "    <tr>\n",
       "      <th>2</th>\n",
       "      <td>TAMUNI</td>\n",
       "      <td>100.001 a 400.000 habitantes</td>\n",
       "      <td>2</td>\n",
       "    </tr>\n",
       "    <tr>\n",
       "      <th>3</th>\n",
       "      <td>TAMUNI</td>\n",
       "      <td>10.001 a 50.000 habitantes</td>\n",
       "      <td>3</td>\n",
       "    </tr>\n",
       "    <tr>\n",
       "      <th>4</th>\n",
       "      <td>TAMUNI</td>\n",
       "      <td>2.001 a 10.000 habitantes</td>\n",
       "      <td>4</td>\n",
       "    </tr>\n",
       "    <tr>\n",
       "      <th>5</th>\n",
       "      <td>TAMUNI</td>\n",
       "      <td>50.001 a 100.000 habitantes</td>\n",
       "      <td>5</td>\n",
       "    </tr>\n",
       "    <tr>\n",
       "      <th>6</th>\n",
       "      <td>P1_1</td>\n",
       "      <td>Mucho interés</td>\n",
       "      <td>1</td>\n",
       "    </tr>\n",
       "    <tr>\n",
       "      <th>7</th>\n",
       "      <td>P1_1</td>\n",
       "      <td>Bastante interés</td>\n",
       "      <td>2</td>\n",
       "    </tr>\n",
       "    <tr>\n",
       "      <th>8</th>\n",
       "      <td>P1_1</td>\n",
       "      <td>(NO LEER) Suficiente interés</td>\n",
       "      <td>3</td>\n",
       "    </tr>\n",
       "    <tr>\n",
       "      <th>9</th>\n",
       "      <td>P1_1</td>\n",
       "      <td>Ningún interés</td>\n",
       "      <td>4</td>\n",
       "    </tr>\n",
       "    <tr>\n",
       "      <th>10</th>\n",
       "      <td>P1_1</td>\n",
       "      <td>Poco interés</td>\n",
       "      <td>5</td>\n",
       "    </tr>\n",
       "    <tr>\n",
       "      <th>11</th>\n",
       "      <td>P1_1</td>\n",
       "      <td>N.S.</td>\n",
       "      <td>6</td>\n",
       "    </tr>\n",
       "    <tr>\n",
       "      <th>12</th>\n",
       "      <td>P1_2</td>\n",
       "      <td>Mucho interés</td>\n",
       "      <td>1</td>\n",
       "    </tr>\n",
       "    <tr>\n",
       "      <th>13</th>\n",
       "      <td>P1_2</td>\n",
       "      <td>(NO LEER) Suficiente interés</td>\n",
       "      <td>2</td>\n",
       "    </tr>\n",
       "    <tr>\n",
       "      <th>14</th>\n",
       "      <td>P1_2</td>\n",
       "      <td>Poco interés</td>\n",
       "      <td>3</td>\n",
       "    </tr>\n",
       "    <tr>\n",
       "      <th>15</th>\n",
       "      <td>P1_2</td>\n",
       "      <td>Ningún interés</td>\n",
       "      <td>4</td>\n",
       "    </tr>\n",
       "    <tr>\n",
       "      <th>16</th>\n",
       "      <td>P1_2</td>\n",
       "      <td>Bastante interés</td>\n",
       "      <td>5</td>\n",
       "    </tr>\n",
       "    <tr>\n",
       "      <th>17</th>\n",
       "      <td>P1_2</td>\n",
       "      <td>N.S.</td>\n",
       "      <td>6</td>\n",
       "    </tr>\n",
       "    <tr>\n",
       "      <th>18</th>\n",
       "      <td>P2_1</td>\n",
       "      <td>Bastante informado/a</td>\n",
       "      <td>1</td>\n",
       "    </tr>\n",
       "    <tr>\n",
       "      <th>19</th>\n",
       "      <td>P2_1</td>\n",
       "      <td>Nada informado/a</td>\n",
       "      <td>2</td>\n",
       "    </tr>\n",
       "    <tr>\n",
       "      <th>20</th>\n",
       "      <td>P2_1</td>\n",
       "      <td>(NO LEER) Suficiente informado/a</td>\n",
       "      <td>3</td>\n",
       "    </tr>\n",
       "    <tr>\n",
       "      <th>21</th>\n",
       "      <td>P2_1</td>\n",
       "      <td>Poco informado/a</td>\n",
       "      <td>4</td>\n",
       "    </tr>\n",
       "    <tr>\n",
       "      <th>22</th>\n",
       "      <td>P2_1</td>\n",
       "      <td>Muy informado/a</td>\n",
       "      <td>5</td>\n",
       "    </tr>\n",
       "    <tr>\n",
       "      <th>23</th>\n",
       "      <td>P5_1</td>\n",
       "      <td>Mucha importancia</td>\n",
       "      <td>1</td>\n",
       "    </tr>\n",
       "    <tr>\n",
       "      <th>24</th>\n",
       "      <td>P5_1</td>\n",
       "      <td>Bastante importancia</td>\n",
       "      <td>2</td>\n",
       "    </tr>\n",
       "    <tr>\n",
       "      <th>25</th>\n",
       "      <td>P5_1</td>\n",
       "      <td>Poca importancia</td>\n",
       "      <td>3</td>\n",
       "    </tr>\n",
       "    <tr>\n",
       "      <th>26</th>\n",
       "      <td>P5_1</td>\n",
       "      <td>N.S.</td>\n",
       "      <td>4</td>\n",
       "    </tr>\n",
       "  </tbody>\n",
       "</table>\n",
       "</div>"
      ],
      "text/plain": [
       "       var                              resp code\n",
       "0     CCAA                         Andalucía    1\n",
       "1   TAMUNI  Menos o igual a 2.000 habitantes    1\n",
       "2   TAMUNI      100.001 a 400.000 habitantes    2\n",
       "3   TAMUNI        10.001 a 50.000 habitantes    3\n",
       "4   TAMUNI         2.001 a 10.000 habitantes    4\n",
       "5   TAMUNI       50.001 a 100.000 habitantes    5\n",
       "6     P1_1                     Mucho interés    1\n",
       "7     P1_1                  Bastante interés    2\n",
       "8     P1_1      (NO LEER) Suficiente interés    3\n",
       "9     P1_1                    Ningún interés    4\n",
       "10    P1_1                      Poco interés    5\n",
       "11    P1_1                              N.S.    6\n",
       "12    P1_2                     Mucho interés    1\n",
       "13    P1_2      (NO LEER) Suficiente interés    2\n",
       "14    P1_2                      Poco interés    3\n",
       "15    P1_2                    Ningún interés    4\n",
       "16    P1_2                  Bastante interés    5\n",
       "17    P1_2                              N.S.    6\n",
       "18    P2_1              Bastante informado/a    1\n",
       "19    P2_1                  Nada informado/a    2\n",
       "20    P2_1  (NO LEER) Suficiente informado/a    3\n",
       "21    P2_1                  Poco informado/a    4\n",
       "22    P2_1                   Muy informado/a    5\n",
       "23    P5_1                 Mucha importancia    1\n",
       "24    P5_1              Bastante importancia    2\n",
       "25    P5_1                  Poca importancia    3\n",
       "26    P5_1                              N.S.    4"
      ]
     },
     "execution_count": 92,
     "metadata": {},
     "output_type": "execute_result"
    }
   ],
   "source": [
    "my_df2 = pd.DataFrame(columns = ['var','resp','code'])\n",
    "for var in df2.columns:\n",
    "    ctr = 0\n",
    "\n",
    "    while ctr < len(df2[var].unique()):\n",
    " \n",
    "        my_row = np.array([[df2[var].name, df2[var].unique()[ctr],ctr + 1]])\n",
    "        my_df = pd.DataFrame(columns= ['var','resp','code'], data = my_row)\n",
    "\n",
    "        my_df2 = pd.concat([my_df2, my_df], ignore_index= True)\n",
    "        \n",
    "        ctr += 1\n",
    "my_df2"
   ]
  },
  {
   "cell_type": "code",
   "execution_count": 106,
   "metadata": {},
   "outputs": [],
   "source": [
    "# The function extracts all data frame variables and unique responses attached to a code\n",
    "\n",
    "def resp_codes(df, varnames):\n",
    "    # df: dataframe that is going to be used to extrat response code\n",
    "    # varnames: names of the variables needed to store the codes, tipically they will be three:\n",
    "        # varname a: suggested - var is the name of the original variable / column name\n",
    "        # varname b: suggested - resp is the value of the variable generally an string / column value\n",
    "        # varname c: suggested - code is the code applied to resp, only one code by unique variable response\n",
    "    \n",
    "    df_tot = pd.DataFrame(columns = varnames)\n",
    "    for var in df.columns: \n",
    "        ctr = 0\n",
    "        \n",
    "        while ctr < len(df[var].unique()): \n",
    "            \n",
    "            my_row = np.array([[df[var].name, df[var].unique()[ctr], ctr + 1]])\n",
    "            df_par = pd.DataFrame(columns= varnames, data = my_row)\n",
    "            df_tot = pd.concat([df_tot, df_par], ignore_index= True)\n",
    "            ctr += 1\n",
    "    \n",
    "    return df_tot"
   ]
  },
  {
   "cell_type": "code",
   "execution_count": null,
   "metadata": {},
   "outputs": [],
   "source": [
    "my_df2 = pd.DataFrame(columns = ['var','resp','code'])\n",
    "for var in df2.columns:\n",
    "    ctr = 0\n",
    "\n",
    "    while ctr < len(df2[var].unique()):\n",
    " \n",
    "        my_row = np.array([[df2[var].name, df2[var].unique()[ctr],ctr + 1]])\n",
    "        my_df = pd.DataFrame(columns= ['var','resp','code'], data = my_row)\n",
    "\n",
    "        my_df2 = pd.concat([my_df2, my_df], ignore_index= True)\n",
    "        \n",
    "        ctr += 1\n",
    "my_df2"
   ]
  }
 ],
 "metadata": {
  "kernelspec": {
   "display_name": "Python 3",
   "language": "python",
   "name": "python3"
  },
  "language_info": {
   "codemirror_mode": {
    "name": "ipython",
    "version": 3
   },
   "file_extension": ".py",
   "mimetype": "text/x-python",
   "name": "python",
   "nbconvert_exporter": "python",
   "pygments_lexer": "ipython3",
   "version": "3.7.4"
  }
 },
 "nbformat": 4,
 "nbformat_minor": 2
}
